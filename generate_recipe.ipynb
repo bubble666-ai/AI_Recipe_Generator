{
 "cells": [
  {
   "cell_type": "code",
   "execution_count": 38,
   "id": "807bb1d9",
   "metadata": {},
   "outputs": [],
   "source": [
    "import os\n",
    "import google.generativeai as genai\n",
    "from dotenv import load_dotenv\n"
   ]
  },
  {
   "cell_type": "code",
   "execution_count": 39,
   "id": "fcb2675f",
   "metadata": {},
   "outputs": [
    {
     "data": {
      "text/plain": [
       "True"
      ]
     },
     "execution_count": 39,
     "metadata": {},
     "output_type": "execute_result"
    }
   ],
   "source": [
    "load_dotenv()\n"
   ]
  },
  {
   "cell_type": "code",
   "execution_count": 41,
   "id": "e7583338",
   "metadata": {},
   "outputs": [
    {
     "name": "stdout",
     "output_type": "stream",
     "text": [
      "c:\\Users\\alire\\Desktop\\AI_Recipe_Generator\n"
     ]
    }
   ],
   "source": [
    "import os\n",
    "print(os.getcwd())"
   ]
  },
  {
   "cell_type": "markdown",
   "id": "4be41cdd",
   "metadata": {},
   "source": [
    "find model"
   ]
  },
  {
   "cell_type": "code",
   "execution_count": null,
   "id": "2eab865f",
   "metadata": {},
   "outputs": [
    {
     "name": "stdout",
     "output_type": "stream",
     "text": [
      "List of available models:\n",
      "- models/gemini-1.5-pro-latest\n",
      "- models/gemini-1.5-pro-002\n",
      "- models/gemini-1.5-pro\n",
      "- models/gemini-1.5-flash-latest\n",
      "- models/gemini-1.5-flash\n",
      "- models/gemini-1.5-flash-002\n",
      "- models/gemini-1.5-flash-8b\n",
      "- models/gemini-1.5-flash-8b-001\n",
      "- models/gemini-1.5-flash-8b-latest\n",
      "- models/gemini-2.5-pro-preview-03-25\n",
      "- models/gemini-2.5-flash-preview-05-20\n",
      "- models/gemini-2.5-flash\n",
      "- models/gemini-2.5-flash-lite-preview-06-17\n",
      "- models/gemini-2.5-pro-preview-05-06\n",
      "- models/gemini-2.5-pro-preview-06-05\n",
      "- models/gemini-2.5-pro\n",
      "- models/gemini-2.0-flash-exp\n",
      "- models/gemini-2.0-flash\n",
      "- models/gemini-2.0-flash-001\n",
      "- models/gemini-2.0-flash-lite-001\n",
      "- models/gemini-2.0-flash-lite\n",
      "- models/gemini-2.0-flash-lite-preview-02-05\n",
      "- models/gemini-2.0-flash-lite-preview\n",
      "- models/gemini-2.0-pro-exp\n",
      "- models/gemini-2.0-pro-exp-02-05\n",
      "- models/gemini-exp-1206\n",
      "- models/gemini-2.0-flash-thinking-exp-01-21\n",
      "- models/gemini-2.0-flash-thinking-exp\n",
      "- models/gemini-2.0-flash-thinking-exp-1219\n",
      "- models/gemini-2.5-flash-preview-tts\n",
      "- models/gemini-2.5-pro-preview-tts\n",
      "- models/learnlm-2.0-flash-experimental\n",
      "- models/gemma-3-1b-it\n",
      "- models/gemma-3-4b-it\n",
      "- models/gemma-3-12b-it\n",
      "- models/gemma-3-27b-it\n",
      "- models/gemma-3n-e4b-it\n",
      "- models/gemma-3n-e2b-it\n",
      "- models/gemini-2.5-flash-lite\n"
     ]
    }
   ],
   "source": [
    "import google.generativeai as genai\n",
    "import os\n",
    "from dotenv import load_dotenv\n",
    "\n",
    "load_dotenv()\n",
    "genai.configure(api_key=os.environ.get(\"GOOGLE_API_KEY\"))\n",
    "\n",
    "print(\"List of available models:\")\n",
    "for m in genai.list_models():\n",
    "  # We are only interested in models that support the 'generateContent' method\n",
    "  if 'generateContent' in m.supported_generation_methods:\n",
    "    print(f\"- {m.name}\")"
   ]
  },
  {
   "cell_type": "markdown",
   "id": "b99c2278",
   "metadata": {},
   "source": [
    "# We are writing a Python function that takes a list of ingredients (Phase 1 output) as input and, using a large language model (LLM), delivers a complete, logical, and delicious recipe as output."
   ]
  },
  {
   "cell_type": "code",
   "execution_count": null,
   "id": "24bb3547",
   "metadata": {},
   "outputs": [
    {
     "name": "stdout",
     "output_type": "stream",
     "text": [
      "Initial list from AWS: ['Banana', 'Food', 'Fruit', 'Plant', 'Produce']\n",
      "Cleaned list for sending to Gemini: ['Banana']\n",
      "\n",
      "--- Generated Recipe ---\n",
      "\n",
      "**Title:**  Caramelized Banana & Coconut Crème Brulee\n",
      "\n",
      "**Description:** A delightful twist on the classic crème brûlée, featuring sweet caramelized bananas and a rich coconut milk custard.  The perfect blend of tropical sweetness and creamy indulgence.\n",
      "\n",
      "**Ingredients:**\n",
      "\n",
      "- 3 ripe bananas, sliced into 1/2 inch rounds\n",
      "- 2 tablespoons brown sugar\n",
      "- 1 tablespoon butter\n",
      "- 2 cups coconut milk (full-fat recommended)\n",
      "- 1/2 cup granulated sugar\n",
      "- 3 large egg yolks\n",
      "- 1/4 teaspoon salt\n",
      "- 1 teaspoon vanilla extract\n",
      "- Granulated sugar for the topping (about 1 tablespoon total)\n",
      "\n",
      "**Preparation Steps:**\n",
      "\n",
      "1. **Caramelize the Bananas:** Melt the butter in a medium saucepan over medium heat. Add the sliced bananas and brown sugar. Cook, stirring occasionally, until the bananas are softened and caramelized, about 5-7 minutes. Set aside to cool slightly.\n",
      "\n",
      "2. **Prepare the Custard:** In a medium saucepan, gently heat the coconut milk until warm (do not boil). In a separate bowl, whisk together the egg yolks, granulated sugar, and salt until pale and slightly thickened.\n",
      "\n",
      "3. **Combine and Cook:** Slowly whisk a small amount of the warm coconut milk into the egg yolk mixture to temper it. Gradually whisk in the remaining coconut milk until fully combined.  Pour the mixture back into the saucepan and cook over low heat, stirring constantly with a spatula, until the custard thickens enough to coat the back of the spoon (about 5-7 minutes). Do not boil. Remove from heat and stir in the vanilla extract.\n",
      "\n",
      "4. **Assemble and Bake:** Preheat oven to 325°F (160°C). Divide the caramelized bananas evenly among six small ramekins or oven-safe dishes. Pour the coconut custard over the bananas, filling each ramekin almost to the top.\n",
      "\n",
      "5. **Bake:** Place the ramekins in a larger baking dish. Pour enough hot water into the baking dish to come halfway up the sides of the ramekins (this creates a bain-marie, ensuring even cooking). Bake for 30-35 minutes, or until the custard is set but still slightly jiggly in the center.\n",
      "\n",
      "6. **Chill and Brulee:** Remove from the oven and let cool completely at room temperature.  Refrigerate for at least 4 hours, or preferably overnight, to allow the custard to set completely.  Before serving, sprinkle a thin layer of granulated sugar over the top of each custard. Use a kitchen torch to caramelize the sugar until golden brown. Serve immediately and enjoy!\n",
      "\n"
     ]
    }
   ],
   "source": [
    "# Load environment variables from .env file\n",
    "load_dotenv()\n",
    "\n",
    "# Configure Google API using the key read from .env\n",
    "try:\n",
    "    genai.configure(api_key=os.environ.get(\"GOOGLE_API_KEY\"))\n",
    "except TypeError:\n",
    "    print(\"Error: Google API key not found.\"\n",
    "    print(\"Please ensure you have updated the .env file and included your key.\")\n",
    "    exit()\n",
    "\n",
    "def clean_ingredient_list(labels):\n",
    "    generic_labels = ['Food', 'Fruit', 'Produce', 'Plant', 'Vegetable', 'Dish', 'Meal']\n",
    "    cleaned_list = [label for label in labels if label not in generic_labels]\n",
    "    return cleaned_list\n",
    "\n",
    "def create_recipe_with_gemini(ingredient_list):\n",
    "    if not ingredient_list:\n",
    "        return \"No specific ingredients found to create a recipe.\"\n",
    "\n",
    "    # --- Change made in this line ---\n",
    "    model = genai.GenerativeModel('gemini-1.5-flash-latest')\n",
    "\n",
    "    ingredients_str = \", \".join(ingredient_list)\n",
    "    \n",
    "    prompt = f\"\"\"\n",
    "    You are a skilled and creative chef. Your task is to create an exciting and delicious recipe in international based on the provided list of ingredients.\n",
    "\n",
    "    Available ingredients: {ingredients_str}\n",
    "\n",
    "    Please provide a complete recipe with the following format:\n",
    "\n",
    "    **Title:** (An appealing name for the dish)\n",
    "    **Description:** (One or two short sentences about the dish)\n",
    "    **Ingredients:**\n",
    "    - (List of ingredients precisely, you may add common ingredients like water, salt, and oil if needed)\n",
    "    **Preparation Steps:**\n",
    "    1. (First step clearly)\n",
    "    2. (Second step)\n",
    "    3. (...)\n",
    "    \"\"\"\n",
    "\n",
    "    try:\n",
    "        response = model.generate_content(prompt)\n",
    "        return response.text\n",
    "    except Exception as e:\n",
    "        return f\"Error in connecting to Google AI: {e}\"\n",
    "\n",
    "# --- Test section ---\n",
    "if __name__ == \"__main__\":\n",
    "    aws_output = ['Banana', 'Food', 'Fruit', 'Plant', 'Produce']\n",
    "    print(f\"Initial list from AWS: {aws_output}\")\n",
    "\n",
    "    cleaned_ingredients = clean_ingredient_list(aws_output)\n",
    "    print(f\"Cleaned list for sending to Gemini: {cleaned_ingredients}\")\n",
    "    \n",
    "    recipe = create_recipe_with_gemini(cleaned_ingredients)\n",
    "    \n",
    "    print(\"\\n--- Generated Recipe ---\\n\")\n",
    "    print(recipe)"
   ]
  }
 ],
 "metadata": {
  "kernelspec": {
   "display_name": "Python 3",
   "language": "python",
   "name": "python3"
  },
  "language_info": {
   "codemirror_mode": {
    "name": "ipython",
    "version": 3
   },
   "file_extension": ".py",
   "mimetype": "text/x-python",
   "name": "python",
   "nbconvert_exporter": "python",
   "pygments_lexer": "ipython3",
   "version": "3.13.7"
  }
 },
 "nbformat": 4,
 "nbformat_minor": 5
}
