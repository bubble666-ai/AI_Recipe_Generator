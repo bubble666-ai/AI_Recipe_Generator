{
 "cells": [
  {
   "cell_type": "markdown",
   "id": "739ca9c8",
   "metadata": {},
   "source": [
    "# AI_Recipe_Generator"
   ]
  },
  {
   "cell_type": "code",
   "execution_count": null,
   "id": "420b5bb7",
   "metadata": {},
   "outputs": [],
   "source": [
    "import roboflow\n",
    "import os"
   ]
  },
  {
   "cell_type": "code",
   "execution_count": null,
   "id": "6159af9b",
   "metadata": {},
   "outputs": [],
   "source": [
    "# Authentication with Roboflow\n",
    "ROBOFLOW_API_KEY = \"api_key_here\"\n"
   ]
  },
  {
   "cell_type": "code",
   "execution_count": null,
   "id": "8759a315",
   "metadata": {},
   "outputs": [],
   "source": [
    "# Place your API key, which you obtained from the Roboflow website, here\n",
    "rf = roboflow.Roboflow(api_key='ZP86BVdZOxD4aOraKBlQ')\n",
    "\n",
    "workspace = rf.workspace()\n",
    "print(workspace)  # workspace.info()"
   ]
  },
  {
   "cell_type": "code",
   "execution_count": null,
   "id": "7a52e3e5",
   "metadata": {},
   "outputs": [],
   "source": [
    "project = rf.workspace(\"grocery-store-dataset\").project(\"grocery-store-dataset-opzzt\")\n"
   ]
  },
  {
   "cell_type": "code",
   "execution_count": null,
   "id": "d9ad04eb",
   "metadata": {},
   "outputs": [],
   "source": [
    "project = rf.workspace(\"my-ws\").project(\"grocery-store-dataset-opzzt\")\n"
   ]
  },
  {
   "cell_type": "code",
   "execution_count": null,
   "id": "87cc9248",
   "metadata": {},
   "outputs": [],
   "source": [
    "#  This code saves the dataset in the data/grocery-store-dataset folder\n",
    "dataset_path = os.path.join(\"..\", \"data\", \"grocery-store-dataset\") \n"
   ]
  },
  {
   "cell_type": "code",
   "execution_count": null,
   "id": "3c3e8c58",
   "metadata": {},
   "outputs": [],
   "source": [
    "# Specifying the path for dataset download\n",
    "dataset = project.version(1).download(\"yolov8\", location=dataset_path)"
   ]
  },
  {
   "cell_type": "code",
   "execution_count": null,
   "id": "7c97ed06",
   "metadata": {},
   "outputs": [],
   "source": [
    "print(f\"The dataset was downloaded at the following path: {dataset.location}\")\n"
   ]
  },
  {
   "cell_type": "code",
   "execution_count": null,
   "id": "dc33e2ee",
   "metadata": {},
   "outputs": [],
   "source": [
    "# Install ultralytics\n",
    "from ultralytics import YOLO\n"
   ]
  },
  {
   "cell_type": "code",
   "execution_count": null,
   "id": "e171b5b3",
   "metadata": {},
   "outputs": [],
   "source": [
    "# Loading a pre-trained model\n",
    "model = YOLO('yolov8n.pt')"
   ]
  },
  {
   "cell_type": "code",
   "execution_count": null,
   "id": "f053071b",
   "metadata": {},
   "outputs": [],
   "source": [
    "data_yaml_path = os.path.join(dataset.location, \"data.yaml\")\n",
    "data_yaml_path"
   ]
  },
  {
   "cell_type": "code",
   "execution_count": null,
   "id": "978d0a11",
   "metadata": {},
   "outputs": [],
   "source": [
    "# Specifying the path for data.yaml\n",
    "# TEST CUADA GPU\n",
    "import torch\n",
    "print(torch.cuda.is_available())  # True\n",
    "print(torch.cuda.get_device_name(0))\n"
   ]
  },
  {
   "cell_type": "code",
   "execution_count": null,
   "id": "a843d8ab",
   "metadata": {},
   "outputs": [],
   "source": [
    "results = model.train(\n",
    "    data=data_yaml_path,\n",
    "    epochs=50,  # The number of times the model sees the entire dataset. 50 is suitable for a start\n",
    "    imgsz=640,  # Resizing images to 640x640 pixels for training\n",
    "    project='models', # directory to save the trained model\n",
    "    name='yolo_grocery_detector' "
   ]
  }
 ],
 "metadata": {
  "language_info": {
   "name": "python"
  }
 },
 "nbformat": 4,
 "nbformat_minor": 5
}
