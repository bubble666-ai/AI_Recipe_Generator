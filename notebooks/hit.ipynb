import roboflow
import os

# کلید API خود را که از سایت Roboflow گرفتید اینجا قرار دهید
ROBOFLOW_API_KEY = "YOUR_ROBOFLOW_API_KEY"

# احراز هویت با Roboflow
rf = roboflow.Roboflow(api_key=ROBOFLOW_API_KEY)

# دسترسی به پروژه دیتاست مورد نظر
project = rf.workspace("grocery-store-dataset").project("grocery-store-dataset")

# مشخص کردن مسیر برای دانلود دیتاست
# این کد دیتاست را در پوشه data/grocery-store-dataset ذخیره می‌کند
dataset_path = os.path.join("..", "data", "grocery-store-dataset") 

# دانلود دیتاست با فرمت مناسب برای YOLOv8
dataset = project.version(1).download("yolov8", location=dataset_path)

print(f"دیتاست در مسیر زیر دانلود شد: {dataset.location}")
