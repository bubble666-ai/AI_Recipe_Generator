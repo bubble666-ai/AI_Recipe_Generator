{
 "cells": [
  {
   "cell_type": "markdown",
   "id": "fdfb237f",
   "metadata": {},
   "source": [
    "# Writing Python code for image analysis with Amazon Rekognition and AWS"
   ]
  },
  {
   "cell_type": "code",
   "execution_count": 1,
   "id": "e93be1c0",
   "metadata": {},
   "outputs": [],
   "source": [
    "import boto3\n",
    "import os\n"
   ]
  },
  {
   "cell_type": "code",
   "execution_count": 11,
   "id": "777fdd65",
   "metadata": {},
   "outputs": [
    {
     "data": {
      "text/plain": [
       "'imagetest.jpg'"
      ]
     },
     "execution_count": 11,
     "metadata": {},
     "output_type": "execute_result"
    }
   ],
   "source": [
    "IMAGE_PATH = os.path.join('imagetest.jpg') \n",
    "IMAGE_PATH"
   ]
  },
  {
   "cell_type": "code",
   "execution_count": 12,
   "id": "b7e0fdce",
   "metadata": {},
   "outputs": [
    {
     "name": "stdout",
     "output_type": "stream",
     "text": [
      "Detected labels:\n",
      "- Banana (Confidence: 100.00%)\n",
      "- Food (Confidence: 100.00%)\n",
      "- Fruit (Confidence: 100.00%)\n",
      "- Plant (Confidence: 100.00%)\n",
      "- Produce (Confidence: 100.00%)\n",
      "\n",
      "Final list of ingredients to send to the recipe model:\n",
      "['Banana', 'Food', 'Fruit', 'Plant', 'Produce']\n"
     ]
    }
   ],
   "source": [
    "def analyze_image_with_rekognition(image_path):\n",
    "    \"\"\"\n",
    "    This function sends an image to Amazon Rekognition and returns the detected labels.\n",
    "    \"\"\"\n",
    "    try:\n",
    "        # Create a client for the Rekognition service\n",
    "        # Set region_name according to what you entered in aws configure\n",
    "        rekognition_client = boto3.client('rekognition', region_name='us-east-1')\n",
    "\n",
    "        # Reading the image file as binary (bytes)\n",
    "        with open(image_path, 'rb') as image_file:\n",
    "            image_bytes = image_file.read()\n",
    "\n",
    "        # Sending request to Rekognition to detect labels\n",
    "        response = rekognition_client.detect_labels(\n",
    "            Image={'Bytes': image_bytes},\n",
    "            MaxLabels=20,       # Maximum number of desired labels\n",
    "            MinConfidence=75    # Only show labels with confidence above 75%\n",
    "        )\n",
    "\n",
    "        # Extracting label names from the response\n",
    "        detected_labels = []\n",
    "        print(\"Detected labels:\")\n",
    "        for label in response['Labels']:\n",
    "            name = label['Name']\n",
    "            confidence = label['Confidence']\n",
    "            print(f\"- {name} (Confidence: {confidence:.2f}%)\")\n",
    "            detected_labels.append(name)\n",
    "        \n",
    "        return detected_labels\n",
    "\n",
    "    except FileNotFoundError:\n",
    "        print(f\"Error: File not found at path {image_path}.\")\n",
    "        return None\n",
    "    except Exception as e:\n",
    "        print(f\"An unexpected error occurred: {e}\")\n",
    "        return None\n",
    "\n",
    "# Running the main function\n",
    "if __name__ == \"__main__\":\n",
    "    ingredients = analyze_image_with_rekognition(IMAGE_PATH)\n",
    "    if ingredients:\n",
    "        print(\"\\nFinal list of ingredients to send to the recipe model:\")\n",
    "        print(ingredients)"
   ]
  }
 ],
 "metadata": {
  "kernelspec": {
   "display_name": "Python 3",
   "language": "python",
   "name": "python3"
  },
  "language_info": {
   "codemirror_mode": {
    "name": "ipython",
    "version": 3
   },
   "file_extension": ".py",
   "mimetype": "text/x-python",
   "name": "python",
   "nbconvert_exporter": "python",
   "pygments_lexer": "ipython3",
   "version": "3.13.7"
  }
 },
 "nbformat": 4,
 "nbformat_minor": 5
}
